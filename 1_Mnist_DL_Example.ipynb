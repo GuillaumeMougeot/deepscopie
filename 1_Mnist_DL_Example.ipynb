{
 "cells": [
  {
   "cell_type": "markdown",
   "metadata": {
    "id": "view-in-github"
   },
   "source": [
    "<a href=\"https://colab.research.google.com/github/GuillaumeMougeot/deepscopie/blob/main/1_Mnist_DL_Example.ipynb\" target=\"_parent\"><img src=\"https://colab.research.google.com/assets/colab-badge.svg\" alt=\"Open In Colab\"/></a>"
   ]
  },
  {
   "cell_type": "code",
   "execution_count": null,
   "metadata": {
    "colab": {
     "base_uri": "https://localhost:8080/"
    },
    "executionInfo": {
     "elapsed": 583,
     "status": "ok",
     "timestamp": 1652087285456,
     "user": {
      "displayName": "Félix ANF deepscopie",
      "userId": "06930554546315411578"
     },
     "user_tz": -120
    },
    "id": "-LwMErUE4nqh",
    "outputId": "f6880afe-9151-4fb7-e9bc-750d2b6a236f"
   },
   "outputs": [
    {
     "name": "stdout",
     "output_type": "stream",
     "text": [
      "TensorFlow 1.x selected.\n"
     ]
    }
   ],
   "source": [
    "%tensorflow_version 1.x\n",
    "%matplotlib inline"
   ]
  },
  {
   "cell_type": "markdown",
   "metadata": {
    "id": "GNk9xoejq0Gu"
   },
   "source": [
    "# **Make your fist experience with Tensorflow-Keras**\n",
    "Our goal is to construct and train an artificial neural network on thousands of images of handwritten digits so that it may successfully identify others when presented. The data that will be incorporated is the MNIST database which contains 60,000 images for training and 10,000 test images."
   ]
  },
  {
   "cell_type": "markdown",
   "metadata": {
    "id": "rUaYe-8hrq0a"
   },
   "source": [
    "## Loading Training and Validation Data\n",
    "\n",
    "The MNIST dataset is conveniently bundled within Keras, and we can easily analyze some of its features in Python."
   ]
  },
  {
   "cell_type": "code",
   "execution_count": null,
   "metadata": {
    "id": "19s9e7VgHhmR"
   },
   "outputs": [],
   "source": [
    "from __future__ import absolute_import, division, print_function, unicode_literals\n",
    "import tensorflow as tf\n"
   ]
  },
  {
   "cell_type": "code",
   "execution_count": null,
   "metadata": {
    "colab": {
     "base_uri": "https://localhost:8080/"
    },
    "executionInfo": {
     "elapsed": 746,
     "status": "ok",
     "timestamp": 1652087298683,
     "user": {
      "displayName": "Félix ANF deepscopie",
      "userId": "06930554546315411578"
     },
     "user_tz": -120
    },
    "id": "LyugMSBellom",
    "outputId": "c65411e1-1da2-451e-fc9c-1f9f5c74377c"
   },
   "outputs": [
    {
     "name": "stdout",
     "output_type": "stream",
     "text": [
      "Downloading data from https://storage.googleapis.com/tensorflow/tf-keras-datasets/mnist.npz\n",
      "11493376/11490434 [==============================] - 0s 0us/step\n"
     ]
    }
   ],
   "source": [
    "from tensorflow.keras.datasets import mnist\n",
    "import matplotlib.pyplot as plt\n",
    "# load (downloaded if needed) the MNIST dataset\n",
    "(X_train, y_train), (X_val, y_val) = mnist.load_data()"
   ]
  },
  {
   "cell_type": "markdown",
   "metadata": {
    "id": "cEFL5miLsJAO"
   },
   "source": [
    "# **Importing necessary Libraries**"
   ]
  },
  {
   "cell_type": "code",
   "execution_count": null,
   "metadata": {
    "colab": {
     "base_uri": "https://localhost:8080/"
    },
    "executionInfo": {
     "elapsed": 5005,
     "status": "ok",
     "timestamp": 1652087303680,
     "user": {
      "displayName": "Félix ANF deepscopie",
      "userId": "06930554546315411578"
     },
     "user_tz": -120
    },
    "id": "Wbe9-7F0llo4",
    "outputId": "30157b5b-84cd-45be-ae4e-ece94ce1039f"
   },
   "outputs": [
    {
     "name": "stdout",
     "output_type": "stream",
     "text": [
      "Collecting tensorboardcolab\n",
      "  Downloading tensorboardcolab-0.0.22.tar.gz (2.5 kB)\n",
      "Building wheels for collected packages: tensorboardcolab\n",
      "  Building wheel for tensorboardcolab (setup.py) ... \u001b[?25l\u001b[?25hdone\n",
      "  Created wheel for tensorboardcolab: filename=tensorboardcolab-0.0.22-py3-none-any.whl size=3859 sha256=f2230319bd9d4dda46bd86014889ee90b3b46541edc0a259d3aa06c90cce3108\n",
      "  Stored in directory: /root/.cache/pip/wheels/69/4e/4a/1c6c267395cb10edded1050df12af165d3254cfce324e80941\n",
      "Successfully built tensorboardcolab\n",
      "Installing collected packages: tensorboardcolab\n",
      "Successfully installed tensorboardcolab-0.0.22\n"
     ]
    },
    {
     "name": "stderr",
     "output_type": "stream",
     "text": [
      "Using TensorFlow backend.\n"
     ]
    }
   ],
   "source": [
    "!pip install tensorboardcolab\n",
    "from tensorflow.keras.models import Sequential # Model type to be used\n",
    "from tensorflow.keras.layers import Dense, Activation, Dropout# Make Fully connected (FC) layers\n",
    "from tensorflow.keras.utils import to_categorical # NumPy related tools\n",
    "from tensorflow.keras.callbacks import TensorBoard  #Visulization of Accuracy and loss\n",
    "from tensorboardcolab import TensorBoardColab, TensorBoardColabCallback\n",
    "\n",
    "import numpy as np                   # advanced math library\n",
    "import matplotlib.pyplot as plt      # MATLAB like plotting routines\n",
    "import random                        # for generating random numbers\n"
   ]
  },
  {
   "cell_type": "markdown",
   "metadata": {
    "id": "j94bah8itXXQ"
   },
   "source": [
    "Visualization of some input images"
   ]
  },
  {
   "cell_type": "code",
   "execution_count": null,
   "metadata": {
    "colab": {
     "base_uri": "https://localhost:8080/",
     "height": 657
    },
    "executionInfo": {
     "elapsed": 1715,
     "status": "ok",
     "timestamp": 1652087305392,
     "user": {
      "displayName": "Félix ANF deepscopie",
      "userId": "06930554546315411578"
     },
     "user_tz": -120
    },
    "id": "k2msmk9kllo8",
    "outputId": "44eb8b00-b4c1-420f-db2c-f703e1045eb7"
   },
   "outputs": [
    {
     "data": {
      "image/png": "[encoded data removed]",
      "text/plain": [
       "<Figure size 648x648 with 9 Axes>"
      ]
     },
     "metadata": {
      "needs_background": "light"
     },
     "output_type": "display_data"
    }
   ],
   "source": [
    "plt.rcParams['figure.figsize'] = (9,9) # Make the figures a bit bigger\n",
    "\n",
    "for i in range(9):\n",
    "    plt.subplot(3,3,i+1)\n",
    "    num = random.randint(0, len(X_train))\n",
    "    plt.imshow(X_train[num], cmap='gray', interpolation='none')\n",
    "    plt.title(\"Class {}\".format(y_train[num]))\n",
    "    \n",
    "plt.tight_layout()"
   ]
  },
  {
   "cell_type": "markdown",
   "metadata": {
    "id": "A_zCqwWUtsQk"
   },
   "source": [
    "## Formatting the input data layer\n",
    "\n",
    "Instead of a 28 x 28 matrix, we build our network to accept a 784-length vector. Each image needs to be then reshaped (or flattened) into a vector. "
   ]
  },
  {
   "cell_type": "code",
   "execution_count": null,
   "metadata": {
    "id": "_ZcXG7IlllpF"
   },
   "outputs": [],
   "source": [
    "X_train = X_train.reshape(X_train.shape[0], 784).astype('float32')\n",
    "X_val = X_val.reshape(X_val.shape[0], 784).astype('float32')\n",
    "\n",
    "# normalize inputs from 0-255 to 0-1\n",
    "X_train /= 255\n",
    "X_val /= 255"
   ]
  },
  {
   "cell_type": "markdown",
   "metadata": {
    "id": "NMqOlzCvum99"
   },
   "source": [
    "We then modify our classes (unique digits) to be in the one-hot format, i.e."
   ]
  },
  {
   "cell_type": "code",
   "execution_count": null,
   "metadata": {
    "id": "noBosoMQupvp"
   },
   "outputs": [],
   "source": [
    "# one hot encode outputs\n",
    "Y_train = to_categorical(y_train)\n",
    "Y_val = to_categorical(y_val)"
   ]
  },
  {
   "cell_type": "markdown",
   "metadata": {
    "id": "ppNdrarWvSEV"
   },
   "source": [
    "# Building the simplest fully connected network (FCN) with just one layer"
   ]
  },
  {
   "cell_type": "code",
   "execution_count": null,
   "metadata": {
    "id": "Ytj_eL4zvFDB"
   },
   "outputs": [],
   "source": [
    "# The Sequential model is a linear stack of layers and is very common.\n",
    "model = Sequential([\n",
    "    Dense(10), # It is the output layer and should be equal to the number of desired classes (10 in this case).\n",
    "    Activation('softmax'),\n",
    "])\n"
   ]
  },
  {
   "cell_type": "markdown",
   "metadata": {
    "id": "VyJ_BhHrv52F"
   },
   "source": [
    "## Compiling the model\n",
    "\n",
    "Keras is built on top of TensorFlow. It allows you to define a *computation graph* in Python, which then compiles and runs efficiently on the CPU or GPU without the overhead of the Python interpreter.\n",
    "\n",
    "When compiling a model, Keras asks you to specify your **loss function** and your **optimizer**. The loss function we'll use here is called *categorical cross-entropy*, and is a loss function well-suited to comparing two probability distributions.\n",
    "\n",
    "Our predictions are probability distributions across the ten different digits (e.g. \"we're 80% confident this image is a 3, 10% sure it's an 8, 5% it's a 2, etc.\"), and the target is a probability distribution with 100% for the correct category, and 0 for everything else. The cross-entropy is a measure of how different your predicted distribution is from the target distribution. [More detail at Wikipedia](https://en.wikipedia.org/wiki/Cross_entropy)"
   ]
  },
  {
   "cell_type": "code",
   "execution_count": null,
   "metadata": {
    "id": "Z_gOe1jFv4dk"
   },
   "outputs": [],
   "source": [
    "model.compile(loss='categorical_crossentropy', \n",
    "              optimizer='adam',\n",
    "              metrics=['accuracy'])"
   ]
  },
  {
   "cell_type": "markdown",
   "metadata": {
    "id": "ICIcOBrR0G3D"
   },
   "source": [
    "# **TensorFlow's visualization toolkit**\n",
    "\n",
    "Before running the next cell, create an account on https://dashboard.ngrok.com/get-started/setup and get the Authtoken id in the section Getting Started. Then insert this id in the first line of the next cell.\n",
    "\n",
    "TensorBoard provides the visualization and tooling needed for machine learning experimentation:\n",
    "*   Tracking and visualizing metrics such as loss and accuracy\n",
    "*   Visualizing the model graph (ops and layers)\n",
    "*   Viewing histograms of weights, biases, or other tensors as they change over time\n",
    "*   Projecting embeddings to a lower dimensional space\n",
    "*   Displaying images, text, and audio data\n",
    "*   Profiling TensorFlow programs\n",
    "*   And much more\n",
    "\n",
    "After running the following block, you should click on the generated link.\n",
    "\n"
   ]
  },
  {
   "cell_type": "code",
   "execution_count": null,
   "metadata": {
    "colab": {
     "base_uri": "https://localhost:8080/",
     "height": 1000
    },
    "executionInfo": {
     "elapsed": 14991,
     "status": "error",
     "timestamp": 1652087370536,
     "user": {
      "displayName": "Félix ANF deepscopie",
      "userId": "06930554546315411578"
     },
     "user_tz": -120
    },
    "id": "lsVkxH97llpL",
    "outputId": "d0f5debd-c277-40b2-e562-2d6815501333"
   },
   "outputs": [
    {
     "name": "stdout",
     "output_type": "stream",
     "text": [
      "Authtoken saved to configuration file: /root/.ngrok2/ngrok.yml\n",
      "Wait for 8 seconds...\n",
      "Initialization failed, retry again (1)\n",
      "\n",
      "\n",
      "Wait for 8 seconds...\n"
     ]
    },
    {
     "name": "stderr",
     "output_type": "stream",
     "text": [
      "ERROR:root:Internal Python error in the inspect module.\n",
      "Below is the traceback from this internal error.\n",
      "\n"
     ]
    },
    {
     "name": "stdout",
     "output_type": "stream",
     "text": [
      "Traceback (most recent call last):\n",
      "  File \"/usr/local/lib/python3.7/dist-packages/IPython/core/interactiveshell.py\", line 2882, in run_code\n",
      "    exec(code_obj, self.user_global_ns, self.user_ns)\n",
      "  File \"<ipython-input-12-29dd9063107f>\", line 2, in <module>\n",
      "    tbc=TensorBoardColab()\n",
      "  File \"/usr/local/lib/python3.7/dist-packages/tensorboardcolab/core.py\", line 25, in __init__\n",
      "    time.sleep(sleep_time)\n",
      "KeyboardInterrupt\n",
      "\n",
      "During handling of the above exception, another exception occurred:\n",
      "\n",
      "Traceback (most recent call last):\n",
      "  File \"/usr/local/lib/python3.7/dist-packages/IPython/core/interactiveshell.py\", line 1823, in showtraceback\n",
      "    stb = value._render_traceback_()\n",
      "AttributeError: 'KeyboardInterrupt' object has no attribute '_render_traceback_'\n",
      "\n",
      "During handling of the above exception, another exception occurred:\n",
      "\n",
      "Traceback (most recent call last):\n",
      "  File \"/usr/local/lib/python3.7/dist-packages/IPython/core/ultratb.py\", line 1132, in get_records\n",
      "    return _fixed_getinnerframes(etb, number_of_lines_of_context, tb_offset)\n",
      "  File \"/usr/local/lib/python3.7/dist-packages/IPython/core/ultratb.py\", line 313, in wrapped\n",
      "    return f(*args, **kwargs)\n",
      "  File \"/usr/local/lib/python3.7/dist-packages/IPython/core/ultratb.py\", line 358, in _fixed_getinnerframes\n",
      "    records = fix_frame_records_filenames(inspect.getinnerframes(etb, context))\n",
      "  File \"/usr/lib/python3.7/inspect.py\", line 1502, in getinnerframes\n",
      "    frameinfo = (tb.tb_frame,) + getframeinfo(tb, context)\n",
      "  File \"/usr/lib/python3.7/inspect.py\", line 1460, in getframeinfo\n",
      "    filename = getsourcefile(frame) or getfile(frame)\n",
      "  File \"/usr/lib/python3.7/inspect.py\", line 696, in getsourcefile\n",
      "    if getattr(getmodule(object, filename), '__loader__', None) is not None:\n",
      "  File \"/usr/lib/python3.7/inspect.py\", line 733, in getmodule\n",
      "    if ismodule(module) and hasattr(module, '__file__'):\n",
      "  File \"/tensorflow-1.15.2/python3.7/tensorflow/__init__.py\", line 50, in __getattr__\n",
      "    module = self._load()\n",
      "  File \"/tensorflow-1.15.2/python3.7/tensorflow/__init__.py\", line 44, in _load\n",
      "    module = _importlib.import_module(self.__name__)\n",
      "  File \"/usr/lib/python3.7/importlib/__init__.py\", line 127, in import_module\n",
      "    return _bootstrap._gcd_import(name[level:], package, level)\n",
      "  File \"<frozen importlib._bootstrap>\", line 1006, in _gcd_import\n",
      "  File \"<frozen importlib._bootstrap>\", line 983, in _find_and_load\n",
      "  File \"<frozen importlib._bootstrap>\", line 967, in _find_and_load_unlocked\n",
      "  File \"<frozen importlib._bootstrap>\", line 677, in _load_unlocked\n",
      "  File \"<frozen importlib._bootstrap_external>\", line 728, in exec_module\n",
      "  File \"<frozen importlib._bootstrap>\", line 219, in _call_with_frames_removed\n",
      "  File \"/tensorflow-1.15.2/python3.7/tensorflow_core/contrib/__init__.py\", line 43, in <module>\n",
      "    from tensorflow.contrib import cudnn_rnn\n",
      "  File \"/tensorflow-1.15.2/python3.7/tensorflow_core/contrib/cudnn_rnn/__init__.py\", line 38, in <module>\n",
      "    from tensorflow.contrib.cudnn_rnn.python.layers import *\n",
      "  File \"/tensorflow-1.15.2/python3.7/tensorflow_core/contrib/cudnn_rnn/__init__.py\", line 38, in <module>\n",
      "    from tensorflow.contrib.cudnn_rnn.python.layers import *\n",
      "  File \"/tensorflow-1.15.2/python3.7/tensorflow_core/contrib/cudnn_rnn/python/layers/__init__.py\", line 23, in <module>\n",
      "    from tensorflow.contrib.cudnn_rnn.python.layers.cudnn_rnn import *\n",
      "  File \"/tensorflow-1.15.2/python3.7/tensorflow_core/contrib/cudnn_rnn/python/layers/cudnn_rnn.py\", line 20, in <module>\n",
      "    from tensorflow.contrib.cudnn_rnn.python.ops import cudnn_rnn_ops\n",
      "  File \"/tensorflow-1.15.2/python3.7/tensorflow_core/contrib/cudnn_rnn/python/ops/cudnn_rnn_ops.py\", line 22, in <module>\n",
      "    from tensorflow.contrib.rnn.python.ops import lstm_ops\n",
      "  File \"/tensorflow-1.15.2/python3.7/tensorflow_core/contrib/rnn/__init__.py\", line 93, in <module>\n",
      "    from tensorflow.contrib.rnn.python.ops.rnn_cell import *\n",
      "  File \"/tensorflow-1.15.2/python3.7/tensorflow_core/contrib/rnn/python/ops/rnn_cell.py\", line 24, in <module>\n",
      "    from tensorflow.contrib.layers.python.layers import layers\n",
      "  File \"/tensorflow-1.15.2/python3.7/tensorflow_core/contrib/layers/__init__.py\", line 116, in <module>\n",
      "    from tensorflow.contrib.layers.python.layers import *\n",
      "  File \"/tensorflow-1.15.2/python3.7/tensorflow_core/contrib/layers/python/layers/__init__.py\", line 33, in <module>\n",
      "    from tensorflow.contrib.layers.python.layers.target_column import *\n",
      "  File \"/tensorflow-1.15.2/python3.7/tensorflow_core/contrib/layers/python/layers/target_column.py\", line 24, in <module>\n",
      "    from tensorflow.contrib.losses.python.losses import loss_ops\n",
      "  File \"/tensorflow-1.15.2/python3.7/tensorflow_core/contrib/losses/__init__.py\", line 25, in <module>\n",
      "    from tensorflow.contrib.losses.python import metric_learning\n",
      "  File \"/tensorflow-1.15.2/python3.7/tensorflow_core/contrib/losses/python/metric_learning/__init__.py\", line 25, in <module>\n",
      "    from tensorflow.contrib.losses.python.metric_learning.metric_loss_ops import *\n",
      "  File \"/tensorflow-1.15.2/python3.7/tensorflow_core/contrib/losses/python/metric_learning/metric_loss_ops.py\", line 34, in <module>\n",
      "    from sklearn import metrics\n",
      "  File \"/usr/local/lib/python3.7/dist-packages/sklearn/__init__.py\", line 82, in <module>\n",
      "    from .base import clone\n",
      "  File \"/usr/local/lib/python3.7/dist-packages/sklearn/base.py\", line 17, in <module>\n",
      "    from .utils import _IS_32BIT\n",
      "  File \"/usr/local/lib/python3.7/dist-packages/sklearn/utils/__init__.py\", line 25, in <module>\n",
      "    from . import _joblib\n",
      "  File \"/usr/local/lib/python3.7/dist-packages/sklearn/utils/_joblib.py\", line 7, in <module>\n",
      "    import joblib\n",
      "  File \"/usr/local/lib/python3.7/dist-packages/joblib/__init__.py\", line 120, in <module>\n",
      "    from .parallel import Parallel\n",
      "  File \"/usr/local/lib/python3.7/dist-packages/joblib/parallel.py\", line 26, in <module>\n",
      "    from ._parallel_backends import (FallbackToBackend, MultiprocessingBackend,\n",
      "  File \"/usr/local/lib/python3.7/dist-packages/joblib/_parallel_backends.py\", line 17, in <module>\n",
      "    from .pool import MemmappingPool\n",
      "  File \"/usr/local/lib/python3.7/dist-packages/joblib/pool.py\", line 31, in <module>\n",
      "    from ._memmapping_reducer import get_memmapping_reducers\n",
      "  File \"/usr/local/lib/python3.7/dist-packages/joblib/_memmapping_reducer.py\", line 37, in <module>\n",
      "    from .externals.loky.backend import resource_tracker\n",
      "  File \"/usr/local/lib/python3.7/dist-packages/joblib/externals/loky/__init__.py\", line 12, in <module>\n",
      "    from .backend.reduction import set_loky_pickler\n",
      "  File \"/usr/local/lib/python3.7/dist-packages/joblib/externals/loky/backend/reduction.py\", line 104, in <module>\n",
      "    register(type(int.__add__), _reduce_method_descriptor)\n",
      "KeyboardInterrupt\n"
     ]
    },
    {
     "ename": "KeyboardInterrupt",
     "evalue": "ignored",
     "output_type": "error",
     "traceback": [
      "\u001b[0;31m---------------------------------------------------------------------------\u001b[0m"
     ]
    }
   ],
   "source": [
    "!ngrok authtoken 2AOAOba9aP1MsgxfWKVEE7gGOKI_63A6iaHjeSW98Ufr7Do6M#authtoken id\n",
    "tbc=TensorBoardColab()"
   ]
  },
  {
   "cell_type": "markdown",
   "metadata": {
    "id": "a9UNb8kfyp9O"
   },
   "source": [
    "## Train the model!"
   ]
  },
  {
   "cell_type": "code",
   "execution_count": null,
   "metadata": {
    "colab": {
     "base_uri": "https://localhost:8080/"
    },
    "executionInfo": {
     "elapsed": 14695,
     "status": "ok",
     "timestamp": 1652087387995,
     "user": {
      "displayName": "Félix ANF deepscopie",
      "userId": "06930554546315411578"
     },
     "user_tz": -120
    },
    "id": "MBlmYIToyfwf",
    "outputId": "3e500142-456d-4e26-9d94-8b781f3edd66"
   },
   "outputs": [
    {
     "name": "stdout",
     "output_type": "stream",
     "text": [
      "WARNING:tensorflow:From /tensorflow-1.15.2/python3.7/tensorflow_core/python/ops/resource_variable_ops.py:1630: calling BaseResourceVariable.__init__ (from tensorflow.python.ops.resource_variable_ops) with constraint is deprecated and will be removed in a future version.\n",
      "Instructions for updating:\n",
      "If using Keras pass *_constraint arguments to layers.\n"
     ]
    },
    {
     "name": "stderr",
     "output_type": "stream",
     "text": [
      "WARNING:tensorflow:From /tensorflow-1.15.2/python3.7/tensorflow_core/python/ops/resource_variable_ops.py:1630: calling BaseResourceVariable.__init__ (from tensorflow.python.ops.resource_variable_ops) with constraint is deprecated and will be removed in a future version.\n",
      "Instructions for updating:\n",
      "If using Keras pass *_constraint arguments to layers.\n"
     ]
    },
    {
     "name": "stdout",
     "output_type": "stream",
     "text": [
      "Train on 60000 samples, validate on 10000 samples\n",
      "WARNING:tensorflow:From /usr/local/lib/python3.7/dist-packages/tensorboardcolab/core.py:49: The name tf.summary.FileWriter is deprecated. Please use tf.compat.v1.summary.FileWriter instead.\n",
      "\n"
     ]
    },
    {
     "name": "stderr",
     "output_type": "stream",
     "text": [
      "WARNING:tensorflow:From /usr/local/lib/python3.7/dist-packages/tensorboardcolab/core.py:49: The name tf.summary.FileWriter is deprecated. Please use tf.compat.v1.summary.FileWriter instead.\n",
      "\n"
     ]
    },
    {
     "name": "stdout",
     "output_type": "stream",
     "text": [
      "WARNING:tensorflow:From /tensorflow-1.15.2/python3.7/keras/callbacks/tensorboard_v1.py:200: The name tf.summary.merge_all is deprecated. Please use tf.compat.v1.summary.merge_all instead.\n",
      "\n"
     ]
    },
    {
     "name": "stderr",
     "output_type": "stream",
     "text": [
      "WARNING:tensorflow:From /tensorflow-1.15.2/python3.7/keras/callbacks/tensorboard_v1.py:200: The name tf.summary.merge_all is deprecated. Please use tf.compat.v1.summary.merge_all instead.\n",
      "\n"
     ]
    },
    {
     "name": "stdout",
     "output_type": "stream",
     "text": [
      "Epoch 1/5\n",
      "59968/60000 [============================>.] - ETA: 0s - loss: 0.4634 - acc: 0.8786WARNING:tensorflow:From /usr/local/lib/python3.7/dist-packages/tensorboardcolab/callbacks.py:51: The name tf.Summary is deprecated. Please use tf.compat.v1.Summary instead.\n",
      "\n"
     ]
    },
    {
     "name": "stderr",
     "output_type": "stream",
     "text": [
      "WARNING:tensorflow:From /usr/local/lib/python3.7/dist-packages/tensorboardcolab/callbacks.py:51: The name tf.Summary is deprecated. Please use tf.compat.v1.Summary instead.\n",
      "\n"
     ]
    },
    {
     "name": "stdout",
     "output_type": "stream",
     "text": [
      "60000/60000 [==============================] - 3s 51us/sample - loss: 0.4635 - acc: 0.8786 - val_loss: 0.3097 - val_acc: 0.9140\n",
      "Epoch 2/5\n",
      "60000/60000 [==============================] - 3s 46us/sample - loss: 0.3032 - acc: 0.9153 - val_loss: 0.2821 - val_acc: 0.9212\n",
      "Epoch 3/5\n",
      "60000/60000 [==============================] - 3s 45us/sample - loss: 0.2833 - acc: 0.9216 - val_loss: 0.2755 - val_acc: 0.9235\n",
      "Epoch 4/5\n",
      "60000/60000 [==============================] - 3s 45us/sample - loss: 0.2736 - acc: 0.9238 - val_loss: 0.2691 - val_acc: 0.9254\n",
      "Epoch 5/5\n",
      "60000/60000 [==============================] - 3s 45us/sample - loss: 0.2669 - acc: 0.9261 - val_loss: 0.2666 - val_acc: 0.9266\n"
     ]
    }
   ],
   "source": [
    "history = model.fit(X_train, Y_train, \n",
    "          validation_data=(X_val, Y_val),\n",
    "          epochs=5, batch_size=32,\n",
    "          verbose=1,\n",
    "          callbacks=[TensorBoardColabCallback(tbc)])"
   ]
  },
  {
   "cell_type": "markdown",
   "metadata": {
    "id": "VzNVqaqdj6p5"
   },
   "source": [
    "In case of error with TensorboardColab use the next cell to plot loss and accuracy curves."
   ]
  },
  {
   "cell_type": "code",
   "execution_count": null,
   "metadata": {
    "colab": {
     "base_uri": "https://localhost:8080/",
     "height": 408
    },
    "executionInfo": {
     "elapsed": 1338,
     "status": "ok",
     "timestamp": 1652087404680,
     "user": {
      "displayName": "Félix ANF deepscopie",
      "userId": "06930554546315411578"
     },
     "user_tz": -120
    },
    "id": "24kwtlowEnvy",
    "outputId": "15984cd4-c3a8-4b62-a769-c8eadf48fa67"
   },
   "outputs": [
    {
     "data": {
      "text/plain": [
       "<matplotlib.legend.Legend at 0x7f13ca5c2750>"
      ]
     },
     "execution_count": 15,
     "metadata": {},
     "output_type": "execute_result"
    },
    {
     "data": {
      "image/png": "[encoded data removed]",
      "text/plain": [
       "<Figure size 1080x432 with 2 Axes>"
      ]
     },
     "metadata": {
      "needs_background": "light"
     },
     "output_type": "display_data"
    }
   ],
   "source": [
    "plt.figure(figsize=(15,6))\n",
    "plt.subplot(121)\n",
    "plt.title('Loss')\n",
    "plt.plot(history.history['val_loss'], label='val_loss')\n",
    "plt.plot(history.history['loss'], label='loss')\n",
    "#plt.ylim([0.5,1.5])\n",
    "plt.grid()\n",
    "plt.legend()\n",
    "plt.subplot(122)\n",
    "plt.title('Accuracy')\n",
    "plt.plot(history.history['val_acc'], label='val_acc')\n",
    "plt.plot(history.history['acc'], label='acc')\n",
    "#plt.ylim([0,1])\n",
    "plt.grid()\n",
    "plt.legend()"
   ]
  },
  {
   "cell_type": "markdown",
   "metadata": {
    "id": "GX5YLXkA1e66"
   },
   "source": [
    "## Evaluate Model's Accuracy on Test Data\n",
    "Your test data **Must** be different from the validation data, but in this example, we will use the validation data as the test data as well."
   ]
  },
  {
   "cell_type": "code",
   "execution_count": null,
   "metadata": {
    "colab": {
     "base_uri": "https://localhost:8080/"
    },
    "executionInfo": {
     "elapsed": 542,
     "status": "ok",
     "timestamp": 1652087411927,
     "user": {
      "displayName": "Félix ANF deepscopie",
      "userId": "06930554546315411578"
     },
     "user_tz": -120
    },
    "id": "fIaorIub1jw3",
    "outputId": "160fbe18-a183-4ab5-d778-b37cf51fc4ee"
   },
   "outputs": [
    {
     "name": "stdout",
     "output_type": "stream",
     "text": [
      "10000/10000 [==============================] - 0s 22us/sample - loss: 0.2666 - acc: 0.9266\n",
      "Test score: 0.26657516972720624\n",
      "Test accuracy: 0.9266\n"
     ]
    }
   ],
   "source": [
    "score = model.evaluate(X_val, Y_val)\n",
    "print('Test score:', score[0])\n",
    "print('Test accuracy:', score[1])"
   ]
  },
  {
   "cell_type": "markdown",
   "metadata": {
    "id": "h8zG9fGI35DI"
   },
   "source": [
    "### Inspecting the output\n",
    "\n",
    "It's always a good idea to inspect the output and make sure everything looks sane. Here we'll look at some examples it gets right, and some examples it gets wrong."
   ]
  },
  {
   "cell_type": "code",
   "execution_count": null,
   "metadata": {
    "id": "ojQlAkh_36R0"
   },
   "outputs": [],
   "source": [
    "# The predict_classes function outputs the highest probability class\n",
    "# according to the trained classifier for each input example.\n",
    "predicted_classes = model.predict_classes(X_val)\n",
    "\n",
    "# Check which items we got right / wrong\n",
    "correct_indices = np.nonzero(predicted_classes == y_val)[0]\n",
    "\n",
    "incorrect_indices = np.nonzero(predicted_classes != y_val)[0]"
   ]
  },
  {
   "cell_type": "code",
   "execution_count": null,
   "metadata": {
    "colab": {
     "base_uri": "https://localhost:8080/",
     "height": 456
    },
    "executionInfo": {
     "elapsed": 1194,
     "status": "ok",
     "timestamp": 1652087426751,
     "user": {
      "displayName": "Félix ANF deepscopie",
      "userId": "06930554546315411578"
     },
     "user_tz": -120
    },
    "id": "4coF9cdC4FuT",
    "outputId": "457aaecb-5be5-44ec-f337-b6338b5bf5c1"
   },
   "outputs": [
    {
     "data": {
      "image/png": "[encoded data removed]",
      "text/plain": [
       "<Figure size 648x648 with 6 Axes>"
      ]
     },
     "metadata": {
      "needs_background": "light"
     },
     "output_type": "display_data"
    }
   ],
   "source": [
    "plt.figure()\n",
    "for i, correct in enumerate(correct_indices[:6]):\n",
    "    plt.subplot(3,3,i+1)\n",
    "    plt.imshow(X_val[correct].reshape(28,28), cmap='gray', interpolation='none')\n",
    "    plt.title(\"Predicted {}, Class {}\".format(predicted_classes[correct], y_val[correct]))\n",
    "    \n",
    "plt.tight_layout()\n",
    "    "
   ]
  },
  {
   "cell_type": "code",
   "execution_count": null,
   "metadata": {
    "colab": {
     "base_uri": "https://localhost:8080/",
     "height": 456
    },
    "executionInfo": {
     "elapsed": 1355,
     "status": "ok",
     "timestamp": 1652087429904,
     "user": {
      "displayName": "Félix ANF deepscopie",
      "userId": "06930554546315411578"
     },
     "user_tz": -120
    },
    "id": "tAm5wIBo7C1n",
    "outputId": "e15131c2-b7be-41f3-8cc4-2b4f05cba312"
   },
   "outputs": [
    {
     "data": {
      "image/png": "[encoded data removed]",
      "text/plain": [
       "<Figure size 648x648 with 6 Axes>"
      ]
     },
     "metadata": {
      "needs_background": "light"
     },
     "output_type": "display_data"
    }
   ],
   "source": [
    "plt.figure()\n",
    "for i, incorrect in enumerate(incorrect_indices[:6]):\n",
    "    plt.subplot(3,3,i+1)\n",
    "    plt.imshow(X_val[incorrect].reshape(28,28), cmap='gray', interpolation='none')\n",
    "    plt.title(\"Predicted {}, Class {}\".format(predicted_classes[incorrect], y_val[incorrect]))\n",
    "    \n",
    "plt.tight_layout()"
   ]
  },
  {
   "cell_type": "markdown",
   "metadata": {
    "id": "tzB25C3M7NBh"
   },
   "source": [
    "# **Let's go Deeper**\n",
    "We will add four more layers to our model. We use Droupout in our model to reduce overfitting"
   ]
  },
  {
   "cell_type": "code",
   "execution_count": null,
   "metadata": {
    "id": "o6z6Pj5z7mIv"
   },
   "outputs": [],
   "source": [
    "# Dropout helps protect the model from memorizing or \"overfitting\" the training data.\n",
    "Pkeep=0.25\n",
    "modelDeepFC = Sequential([\n",
    "    Dense(200, input_shape=(784,)),\n",
    "    Activation('relu'),\n",
    "    Dropout(Pkeep),\n",
    "    Dense(100, input_shape=(200,)),\n",
    "    Activation('relu'),\n",
    "    Dropout(Pkeep),\n",
    "    Dense(60, input_shape=(100,)),\n",
    "    Activation('relu'),\n",
    "    Dropout(Pkeep),\n",
    "    Dense(30, input_shape=(60,)),\n",
    "    Activation('relu'),\n",
    "    Dropout(Pkeep),\n",
    "    Dense(10),\n",
    "    Activation('softmax'),\n",
    "])"
   ]
  },
  {
   "cell_type": "code",
   "execution_count": null,
   "metadata": {
    "colab": {
     "base_uri": "https://localhost:8080/"
    },
    "executionInfo": {
     "elapsed": 12042,
     "status": "ok",
     "timestamp": 1652087446450,
     "user": {
      "displayName": "Félix ANF deepscopie",
      "userId": "06930554546315411578"
     },
     "user_tz": -120
    },
    "id": "X-xH-kpX_N27",
    "outputId": "dffc0873-b000-4315-a1fb-eeecc55bb5be"
   },
   "outputs": [
    {
     "name": "stdout",
     "output_type": "stream",
     "text": [
      "Wait for 8 seconds...\n",
      "TensorBoard link:\n",
      "https://3b1b-34-86-138-228.ngrok.io\n"
     ]
    }
   ],
   "source": [
    "tbcDeepFC=TensorBoardColab()"
   ]
  },
  {
   "cell_type": "code",
   "execution_count": null,
   "metadata": {
    "colab": {
     "base_uri": "https://localhost:8080/"
    },
    "executionInfo": {
     "elapsed": 38859,
     "status": "ok",
     "timestamp": 1652087503924,
     "user": {
      "displayName": "Félix ANF deepscopie",
      "userId": "06930554546315411578"
     },
     "user_tz": -120
    },
    "id": "kSaOEmsg-pJE",
    "outputId": "af668e3d-c7d9-4af6-c473-0e3077e5d420"
   },
   "outputs": [
    {
     "name": "stdout",
     "output_type": "stream",
     "text": [
      "Train on 60000 samples, validate on 10000 samples\n",
      "Epoch 1/5\n",
      "60000/60000 [==============================] - 8s 131us/sample - loss: 0.5149 - acc: 0.8464 - val_loss: 0.1757 - val_acc: 0.9519\n",
      "Epoch 2/5\n",
      "60000/60000 [==============================] - 8s 127us/sample - loss: 0.2299 - acc: 0.9425 - val_loss: 0.1204 - val_acc: 0.9658\n",
      "Epoch 3/5\n",
      "60000/60000 [==============================] - 8s 125us/sample - loss: 0.1743 - acc: 0.9552 - val_loss: 0.1059 - val_acc: 0.9709\n",
      "Epoch 4/5\n",
      "60000/60000 [==============================] - 8s 126us/sample - loss: 0.1514 - acc: 0.9620 - val_loss: 0.0948 - val_acc: 0.9739\n",
      "Epoch 5/5\n",
      "60000/60000 [==============================] - 7s 125us/sample - loss: 0.1351 - acc: 0.9668 - val_loss: 0.0881 - val_acc: 0.9772\n"
     ]
    }
   ],
   "source": [
    "modelDeepFC.compile(loss='categorical_crossentropy', \n",
    "              optimizer='adam',\n",
    "              metrics=['accuracy'])\n",
    "\n",
    "history = modelDeepFC.fit(X_train, Y_train, \n",
    "          validation_data=(X_val, Y_val),\n",
    "          epochs=5, batch_size=32,\n",
    "          verbose=1,\n",
    "          callbacks=[TensorBoardColabCallback(tbcDeepFC)])"
   ]
  },
  {
   "cell_type": "markdown",
   "metadata": {
    "id": "4nmY8SLMj3zA"
   },
   "source": [
    "In case of error with TensorboardColab use the next cell to plot loss and accuracy curves."
   ]
  },
  {
   "cell_type": "code",
   "execution_count": null,
   "metadata": {
    "colab": {
     "base_uri": "https://localhost:8080/",
     "height": 408
    },
    "executionInfo": {
     "elapsed": 819,
     "status": "ok",
     "timestamp": 1652087506980,
     "user": {
      "displayName": "Félix ANF deepscopie",
      "userId": "06930554546315411578"
     },
     "user_tz": -120
    },
    "id": "3Jul2st4Fc10",
    "outputId": "d0df4f0e-b816-412c-a227-4eef65c80678"
   },
   "outputs": [
    {
     "data": {
      "text/plain": [
       "<matplotlib.legend.Legend at 0x7f13c610ba50>"
      ]
     },
     "execution_count": 24,
     "metadata": {},
     "output_type": "execute_result"
    },
    {
     "data": {
      "image/png": "[encoded data removed]",
      "text/plain": [
       "<Figure size 1080x432 with 2 Axes>"
      ]
     },
     "metadata": {
      "needs_background": "light"
     },
     "output_type": "display_data"
    }
   ],
   "source": [
    "plt.figure(figsize=(15,6))\n",
    "plt.subplot(121)\n",
    "plt.title('Loss')\n",
    "plt.plot(history.history['val_loss'], label='val_loss')\n",
    "plt.plot(history.history['loss'], label='loss')\n",
    "#plt.ylim([0.5,1.5])\n",
    "plt.grid()\n",
    "plt.legend()\n",
    "plt.subplot(122)\n",
    "plt.title('Accuracy')\n",
    "plt.plot(history.history['val_acc'], label='val_acc')\n",
    "plt.plot(history.history['acc'], label='acc')\n",
    "#plt.ylim([0,1])\n",
    "plt.grid()\n",
    "plt.legend()"
   ]
  },
  {
   "cell_type": "code",
   "execution_count": null,
   "metadata": {
    "colab": {
     "base_uri": "https://localhost:8080/"
    },
    "executionInfo": {
     "elapsed": 1040,
     "status": "ok",
     "timestamp": 1652087510666,
     "user": {
      "displayName": "Félix ANF deepscopie",
      "userId": "06930554546315411578"
     },
     "user_tz": -120
    },
    "id": "uNcl1nAH42QG",
    "outputId": "80845665-706e-4bcd-8857-f376b3dafc2a"
   },
   "outputs": [
    {
     "name": "stdout",
     "output_type": "stream",
     "text": [
      "10000/10000 [==============================] - 1s 78us/sample - loss: 0.0881 - acc: 0.9772\n",
      "Test score: 0.08805531045351526\n",
      "Test accuracy: 0.9772\n"
     ]
    }
   ],
   "source": [
    "scoreDeepFC = modelDeepFC.evaluate(X_val, Y_val)\n",
    "print('Test score:', scoreDeepFC[0])\n",
    "print('Test accuracy:', scoreDeepFC[1])"
   ]
  },
  {
   "cell_type": "markdown",
   "metadata": {
    "id": "_Gy_4HN0BWgq"
   },
   "source": [
    "The performance of the last model with more layers showed a better performance compare with our first model."
   ]
  },
  {
   "cell_type": "markdown",
   "metadata": {
    "id": "P_gM34gjBsAW"
   },
   "source": [
    "# **Let's go furter with introducing CNN**\n",
    "Before, we built a network that accepts the normalized pixel values of each value and operates soley on those values. What if we could instead feed different features (e.g. curvature, edges) of each image into a network, and have the network learn which features are important for classifying an image?\n",
    "\n",
    "This possible through convolution! Convolution applies kernels (filters) that traverse through each image and generate feature maps."
   ]
  },
  {
   "cell_type": "code",
   "execution_count": null,
   "metadata": {
    "id": "6HfNFU_ZCV7t"
   },
   "outputs": [],
   "source": [
    "# import some additional tools\n",
    "\n",
    "from tensorflow.keras.preprocessing.image import ImageDataGenerator\n",
    "from tensorflow.keras.layers import Conv2D, MaxPooling2D, Flatten"
   ]
  },
  {
   "cell_type": "code",
   "execution_count": null,
   "metadata": {
    "id": "VnyHx6KdCpDM"
   },
   "outputs": [],
   "source": [
    "# Reload the MNIST data\n",
    "(X_train, y_train), (X_test, y_test) = mnist.load_data()"
   ]
  },
  {
   "cell_type": "code",
   "execution_count": null,
   "metadata": {
    "colab": {
     "base_uri": "https://localhost:8080/"
    },
    "executionInfo": {
     "elapsed": 6,
     "status": "ok",
     "timestamp": 1652087515515,
     "user": {
      "displayName": "Félix ANF deepscopie",
      "userId": "06930554546315411578"
     },
     "user_tz": -120
    },
    "id": "Q3_HL1Z5CsMF",
    "outputId": "0aaaae61-4d6c-4688-def2-e3fccc983ca0"
   },
   "outputs": [
    {
     "name": "stdout",
     "output_type": "stream",
     "text": [
      "Training matrix shape (60000, 28, 28, 1)\n",
      "Testing matrix shape (10000, 28, 28, 1)\n"
     ]
    }
   ],
   "source": [
    "# Again, do some formatting\n",
    "# Except we do not flatten each image into a 784-length vector because we want to perform convolutions first\n",
    "\n",
    "X_train = X_train.reshape(X_train.shape[0], 28, 28, 1).astype('float32') #add an additional dimension to represent the single-channel\n",
    "X_test = X_test.reshape(X_test.shape[0], 28, 28, 1).astype('float32')\n",
    "\n",
    "X_train /= 255                              # normalize each value for each pixel for the entire vector for each input\n",
    "X_test /= 255\n",
    "\n",
    "print(\"Training matrix shape\", X_train.shape)\n",
    "print(\"Testing matrix shape\", X_test.shape)"
   ]
  },
  {
   "cell_type": "code",
   "execution_count": null,
   "metadata": {
    "id": "-VuttSwGDQdB"
   },
   "outputs": [],
   "source": [
    "# one hot encode outputs\n",
    "Y_train = to_categorical(y_train)\n",
    "Y_test = to_categorical(y_test)"
   ]
  },
  {
   "cell_type": "code",
   "execution_count": null,
   "metadata": {
    "colab": {
     "base_uri": "https://localhost:8080/"
    },
    "executionInfo": {
     "elapsed": 3,
     "status": "ok",
     "timestamp": 1652087518288,
     "user": {
      "displayName": "Félix ANF deepscopie",
      "userId": "06930554546315411578"
     },
     "user_tz": -120
    },
    "id": "zsVz160NDdwF",
    "outputId": "bd89d55d-7a67-45f8-f4a3-b56f7fd84252"
   },
   "outputs": [
    {
     "name": "stdout",
     "output_type": "stream",
     "text": [
      "Model: \"sequential_2\"\n",
      "_________________________________________________________________\n",
      "Layer (type)                 Output Shape              Param #   \n",
      "=================================================================\n",
      "conv2d (Conv2D)              (None, 26, 26, 32)        320       \n",
      "_________________________________________________________________\n",
      "max_pooling2d (MaxPooling2D) (None, 13, 13, 32)        0         \n",
      "_________________________________________________________________\n",
      "conv2d_1 (Conv2D)            (None, 11, 11, 64)        18496     \n",
      "_________________________________________________________________\n",
      "max_pooling2d_1 (MaxPooling2 (None, 5, 5, 64)          0         \n",
      "_________________________________________________________________\n",
      "conv2d_2 (Conv2D)            (None, 3, 3, 128)         73856     \n",
      "_________________________________________________________________\n",
      "flatten (Flatten)            (None, 1152)              0         \n",
      "_________________________________________________________________\n",
      "dense_6 (Dense)              (None, 512)               590336    \n",
      "_________________________________________________________________\n",
      "activation_6 (Activation)    (None, 512)               0         \n",
      "_________________________________________________________________\n",
      "dropout_4 (Dropout)          (None, 512)               0         \n",
      "_________________________________________________________________\n",
      "dense_7 (Dense)              (None, 10)                5130      \n",
      "_________________________________________________________________\n",
      "activation_7 (Activation)    (None, 10)                0         \n",
      "=================================================================\n",
      "Total params: 688,138\n",
      "Trainable params: 688,138\n",
      "Non-trainable params: 0\n",
      "_________________________________________________________________\n"
     ]
    }
   ],
   "source": [
    "modelCNN = Sequential([\n",
    "    \n",
    "    # Convolution Layer 1\n",
    "    Conv2D(32, (3, 3), activation='relu', input_shape=(28, 28, 1)), # 32 different 3x3 kernels -- so 32 feature maps\n",
    "    MaxPooling2D(pool_size=(2, 2)), # Pool the max values over a 2x2 kernel\n",
    "\n",
    "    # Convolution Layer 2\n",
    "    Conv2D(64, (3, 3), activation='relu'), # 64 different 3x3 kernels \n",
    "    MaxPooling2D(pool_size=(2, 2)),\n",
    "\n",
    "    # Convolution Layer 3\n",
    "    Conv2D(128, (3, 3), activation='relu'), # 128 different 3x3 kernels\n",
    "\n",
    "    Flatten(), # Flatten final 7x7x128 output matrix into a 1024-length vector \n",
    "\n",
    "    # Fully Connected Layer 4\n",
    "    Dense(512), # 512 FCN nodes\n",
    "    Activation('relu'),\n",
    "    Dropout(0.2),\n",
    "    Dense(10),\n",
    "    Activation('softmax'),\n",
    "])\n",
    "modelCNN.summary()"
   ]
  },
  {
   "cell_type": "code",
   "execution_count": null,
   "metadata": {
    "colab": {
     "base_uri": "https://localhost:8080/"
    },
    "executionInfo": {
     "elapsed": 12011,
     "status": "ok",
     "timestamp": 1652087532744,
     "user": {
      "displayName": "Félix ANF deepscopie",
      "userId": "06930554546315411578"
     },
     "user_tz": -120
    },
    "id": "bH9KNpw-FMZP",
    "outputId": "2bcc6af1-db76-4631-8e08-9adb30d1ccd9"
   },
   "outputs": [
    {
     "name": "stdout",
     "output_type": "stream",
     "text": [
      "Wait for 8 seconds...\n",
      "TensorBoard link:\n",
      "https://b7d9-34-86-138-228.ngrok.io\n"
     ]
    }
   ],
   "source": [
    "tbcCNN=TensorBoardColab()"
   ]
  },
  {
   "cell_type": "code",
   "execution_count": null,
   "metadata": {
    "colab": {
     "base_uri": "https://localhost:8080/"
    },
    "executionInfo": {
     "elapsed": 368338,
     "status": "ok",
     "timestamp": 1652087904353,
     "user": {
      "displayName": "Félix ANF deepscopie",
      "userId": "06930554546315411578"
     },
     "user_tz": -120
    },
    "id": "S2kzBiLRE3Hw",
    "outputId": "bec3f3ba-357f-4149-b667-5f5954fdd1e1"
   },
   "outputs": [
    {
     "name": "stdout",
     "output_type": "stream",
     "text": [
      "Train on 60000 samples, validate on 10000 samples\n",
      "Epoch 1/5\n",
      "60000/60000 [==============================] - 75s 1ms/sample - loss: 0.1252 - acc: 0.9614 - val_loss: 0.0480 - val_acc: 0.9851\n",
      "Epoch 2/5\n",
      "60000/60000 [==============================] - 74s 1ms/sample - loss: 0.0425 - acc: 0.9869 - val_loss: 0.0377 - val_acc: 0.9884\n",
      "Epoch 3/5\n",
      "60000/60000 [==============================] - 73s 1ms/sample - loss: 0.0306 - acc: 0.9905 - val_loss: 0.0270 - val_acc: 0.9919\n",
      "Epoch 4/5\n",
      "60000/60000 [==============================] - 73s 1ms/sample - loss: 0.0242 - acc: 0.9920 - val_loss: 0.0414 - val_acc: 0.9897\n",
      "Epoch 5/5\n",
      "60000/60000 [==============================] - 73s 1ms/sample - loss: 0.0190 - acc: 0.9939 - val_loss: 0.0374 - val_acc: 0.9904\n"
     ]
    }
   ],
   "source": [
    "modelCNN.compile(loss='categorical_crossentropy', \n",
    "              optimizer='adam',\n",
    "              metrics=['accuracy'])\n",
    "\n",
    "history = modelCNN.fit(X_train, Y_train, \n",
    "          validation_data=(X_test, Y_test),\n",
    "          epochs=5, batch_size=32,\n",
    "          verbose=1,\n",
    "          callbacks=[TensorBoardColabCallback(tbcCNN)])"
   ]
  },
  {
   "cell_type": "markdown",
   "metadata": {
    "id": "BkCKRmCfjlAx"
   },
   "source": [
    "In case of error with TensorboardColab use the next cell to plot loss and accuracy curves."
   ]
  },
  {
   "cell_type": "code",
   "execution_count": null,
   "metadata": {
    "colab": {
     "base_uri": "https://localhost:8080/",
     "height": 408
    },
    "executionInfo": {
     "elapsed": 560,
     "status": "ok",
     "timestamp": 1652087904909,
     "user": {
      "displayName": "Félix ANF deepscopie",
      "userId": "06930554546315411578"
     },
     "user_tz": -120
    },
    "id": "ooMxGasRFx7b",
    "outputId": "531ab769-b4f7-449c-fd8b-a0c1ab1fe8e1"
   },
   "outputs": [
    {
     "data": {
      "text/plain": [
       "<matplotlib.legend.Legend at 0x7f13c55fa990>"
      ]
     },
     "execution_count": 33,
     "metadata": {},
     "output_type": "execute_result"
    },
    {
     "data": {
      "image/png": "[encoded data removed]",
      "text/plain": [
       "<Figure size 1080x432 with 2 Axes>"
      ]
     },
     "metadata": {
      "needs_background": "light"
     },
     "output_type": "display_data"
    }
   ],
   "source": [
    "plt.figure(figsize=(15,6))\n",
    "plt.subplot(121)\n",
    "plt.title('Loss')\n",
    "plt.plot(history.history['val_loss'], label='val_loss')\n",
    "plt.plot(history.history['loss'], label='loss')\n",
    "#plt.ylim([0.5,1.5])\n",
    "plt.grid()\n",
    "plt.legend()\n",
    "plt.subplot(122)\n",
    "plt.title('Accuracy')\n",
    "plt.plot(history.history['val_acc'], label='val_acc')\n",
    "plt.plot(history.history['acc'], label='acc')\n",
    "#plt.ylim([0,1])\n",
    "plt.grid()\n",
    "plt.legend()"
   ]
  },
  {
   "cell_type": "markdown",
   "metadata": {
    "id": "ipCAB6BZMZjh"
   },
   "source": [
    "**Evaluation and Prediction**\n",
    "\n",
    "We can use our model to make a prediction on new images."
   ]
  },
  {
   "cell_type": "code",
   "execution_count": null,
   "metadata": {
    "colab": {
     "base_uri": "https://localhost:8080/"
    },
    "executionInfo": {
     "elapsed": 3614,
     "status": "ok",
     "timestamp": 1652087908515,
     "user": {
      "displayName": "Félix ANF deepscopie",
      "userId": "06930554546315411578"
     },
     "user_tz": -120
    },
    "id": "RNFXqmiSOMtp",
    "outputId": "4d62b58e-8152-4861-b95b-b05830212bff"
   },
   "outputs": [
    {
     "name": "stdout",
     "output_type": "stream",
     "text": [
      "10000/10000 [==============================] - 4s 383us/sample - loss: 0.0374 - acc: 0.9904\n"
     ]
    },
    {
     "data": {
      "text/plain": [
       "[0.03739601116279446, 0.9904]"
      ]
     },
     "execution_count": 34,
     "metadata": {},
     "output_type": "execute_result"
    }
   ],
   "source": [
    "modelCNN.evaluate(X_test,Y_test) #Evaluation of the model on the test dataset"
   ]
  },
  {
   "cell_type": "code",
   "execution_count": null,
   "metadata": {
    "colab": {
     "base_uri": "https://localhost:8080/"
    },
    "executionInfo": {
     "elapsed": 3588,
     "status": "ok",
     "timestamp": 1652087912100,
     "user": {
      "displayName": "Félix ANF deepscopie",
      "userId": "06930554546315411578"
     },
     "user_tz": -120
    },
    "id": "K5Lv4PC_FpaH",
    "outputId": "081a4c2c-5ace-463f-e1b8-6ee1ceb3fb1f"
   },
   "outputs": [
    {
     "data": {
      "text/plain": [
       "array([7, 2, 1, ..., 4, 5, 6])"
      ]
     },
     "execution_count": 35,
     "metadata": {},
     "output_type": "execute_result"
    }
   ],
   "source": [
    "modelCNN.predict_classes(X_test) # Prediction of classes"
   ]
  },
  {
   "cell_type": "code",
   "execution_count": null,
   "metadata": {
    "colab": {
     "base_uri": "https://localhost:8080/"
    },
    "executionInfo": {
     "elapsed": 6,
     "status": "ok",
     "timestamp": 1652087912101,
     "user": {
      "displayName": "Félix ANF deepscopie",
      "userId": "06930554546315411578"
     },
     "user_tz": -120
    },
    "id": "A-WoRJj5PMlt",
    "outputId": "f097d7c4-55e3-4816-914e-75358560081d"
   },
   "outputs": [
    {
     "name": "stdout",
     "output_type": "stream",
     "text": [
      "The predicted label is:  9\n",
      "The real label is:  9\n"
     ]
    }
   ],
   "source": [
    "# Prediction of classes of a single image\n",
    "img=X_test[1000,:,:,:]\n",
    "img = np.array(img).reshape(-1, 28, 28, 1)\n",
    "output = modelCNN.predict_classes(img)\n",
    "print('The predicted label is: ',output[0])\n",
    "print('The real label is: ',y_test[1000])\n",
    "plt.imshow(img.reshape(28,28))\n",
    "plt.show()"
   ]
  }
 ],
 "metadata": {
  "colab": {
   "collapsed_sections": [],
   "name": "1_Mnist_DL_Example.ipynb",
   "provenance": []
  },
  "kernelspec": {
   "display_name": "Python 3 (ipykernel)",
   "language": "python",
   "name": "python3"
  },
  "language_info": {
   "codemirror_mode": {
    "name": "ipython",
    "version": 3
   },
   "file_extension": ".py",
   "mimetype": "text/x-python",
   "name": "python",
   "nbconvert_exporter": "python",
   "pygments_lexer": "ipython3",
   "version": "3.9.7"
  }
 },
 "nbformat": 4,
 "nbformat_minor": 1
}
